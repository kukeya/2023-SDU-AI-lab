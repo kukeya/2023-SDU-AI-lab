{
 "cells": [
  {
   "cell_type": "code",
   "execution_count": 2,
   "metadata": {
    "collapsed": true,
    "ExecuteTime": {
     "start_time": "2023-12-08T10:57:49.127986Z",
     "end_time": "2023-12-08T10:57:49.759467Z"
    }
   },
   "outputs": [],
   "source": [
    "import os\n",
    "\n",
    "os.environ['TF_CPP_MIN_LOG_LEVEL'] = '2'\n",
    "import numpy\n",
    "from keras.datasets import mnist\n",
    "from keras.models import Sequential\n",
    "from keras.layers import Dense\n",
    "from keras.layers import Dropout\n",
    "from keras.layers import Flatten\n",
    "from keras.layers.convolutional import Conv2D\n",
    "from keras.layers.convolutional import MaxPooling2D\n",
    "from keras.utils import np_utils\n",
    "import matplotlib.pyplot as plt\n",
    "from keras.constraints import maxnorm\n",
    "from keras.optimizers import SGD\n"
   ]
  },
  {
   "cell_type": "code",
   "execution_count": 3,
   "outputs": [],
   "source": [
    "seed = 7\n",
    "numpy.random.seed(seed)\n"
   ],
   "metadata": {
    "collapsed": false,
    "ExecuteTime": {
     "start_time": "2023-12-08T10:59:48.074256Z",
     "end_time": "2023-12-08T10:59:48.094527Z"
    }
   }
  },
  {
   "cell_type": "code",
   "execution_count": 8,
   "outputs": [],
   "source": [
    "(X_train, y_train), (X_test, y_test) = mnist.load_data()\n",
    "X_train = X_train.reshape(X_train.shape[0], 28, 28, 1).astype('float32')\n",
    "X_test = X_test.reshape(X_test.shape[0], 28, 28, 1).astype('float32')\n",
    "\n",
    "# 数据正则化，避免过拟合\n",
    "X_train = X_train / 255\n",
    "X_test = X_test / 255\n",
    "\n",
    "# 对输出热编码\n",
    "y_train = np_utils.to_categorical(y_train)\n",
    "y_test = np_utils.to_categorical(y_test)\n",
    "num_classes = y_test.shape[1]\n",
    "\n"
   ],
   "metadata": {
    "collapsed": false,
    "ExecuteTime": {
     "start_time": "2023-12-08T11:08:05.629065Z",
     "end_time": "2023-12-08T11:08:06.007249Z"
    }
   }
  },
  {
   "cell_type": "code",
   "execution_count": 9,
   "outputs": [],
   "source": [
    "def larger_model():\n",
    "    # 定义卷积神经网络，创建模型\n",
    "    model = Sequential()\n",
    "\n",
    "    # 在模型中添加卷积层，池化层和全连接层。\n",
    "    # keras提供了接口函数可以很方便的实现，此处使用了dropout层，可按实际训练情况修改。\n",
    "    model.add(Conv2D(30, (5, 5), input_shape=(28, 28, 1), activation='relu', padding='valid'))\n",
    "    model.add(MaxPooling2D(pool_size=(2, 2)))\n",
    "    model.add(Dropout(0.4))\n",
    "    model.add(Conv2D(15, (3, 3), activation='relu'))\n",
    "    model.add(MaxPooling2D(pool_size=(2, 2)))\n",
    "    model.add(Dropout(0.4))\n",
    "    model.add(Flatten())\n",
    "    model.add(Dense(128, activation='relu'))\n",
    "    model.add(Dropout(0.4))\n",
    "    model.add(Dense(50, activation='relu'))\n",
    "    model.add(Dropout(0.4))\n",
    "    model.add(Dense(num_classes, activation='softmax'))\n",
    "    # 编译模型\n",
    "    model.compile(loss='categorical_crossentropy', optimizer='adam', metrics=['accuracy'])\n",
    "\n",
    "    return model\n"
   ],
   "metadata": {
    "collapsed": false,
    "ExecuteTime": {
     "start_time": "2023-12-08T11:08:09.689049Z",
     "end_time": "2023-12-08T11:08:09.708054Z"
    }
   }
  },
  {
   "cell_type": "code",
   "execution_count": 10,
   "outputs": [],
   "source": [
    "model = larger_model()\n"
   ],
   "metadata": {
    "collapsed": false,
    "ExecuteTime": {
     "start_time": "2023-12-08T11:08:10.107664Z",
     "end_time": "2023-12-08T11:08:10.210678Z"
    }
   }
  },
  {
   "cell_type": "code",
   "execution_count": 11,
   "outputs": [
    {
     "name": "stdout",
     "output_type": "stream",
     "text": [
      "Epoch 1/69\n",
      "300/300 - 30s - loss: 0.9133 - accuracy: 0.6916 - val_loss: 0.1234 - val_accuracy: 0.9649 - 30s/epoch - 101ms/step\n",
      "Epoch 2/69\n",
      "300/300 - 27s - loss: 0.2805 - accuracy: 0.9203 - val_loss: 0.0813 - val_accuracy: 0.9763 - 27s/epoch - 89ms/step\n",
      "Epoch 3/69\n",
      "300/300 - 27s - loss: 0.2120 - accuracy: 0.9415 - val_loss: 0.0596 - val_accuracy: 0.9808 - 27s/epoch - 90ms/step\n",
      "Epoch 4/69\n",
      "300/300 - 28s - loss: 0.1828 - accuracy: 0.9503 - val_loss: 0.0528 - val_accuracy: 0.9842 - 28s/epoch - 93ms/step\n",
      "Epoch 5/69\n",
      "300/300 - 27s - loss: 0.1623 - accuracy: 0.9564 - val_loss: 0.0484 - val_accuracy: 0.9851 - 27s/epoch - 90ms/step\n",
      "Epoch 6/69\n",
      "300/300 - 27s - loss: 0.1455 - accuracy: 0.9610 - val_loss: 0.0448 - val_accuracy: 0.9871 - 27s/epoch - 91ms/step\n",
      "Epoch 7/69\n",
      "300/300 - 27s - loss: 0.1366 - accuracy: 0.9631 - val_loss: 0.0411 - val_accuracy: 0.9878 - 27s/epoch - 89ms/step\n",
      "Epoch 8/69\n",
      "300/300 - 27s - loss: 0.1252 - accuracy: 0.9671 - val_loss: 0.0376 - val_accuracy: 0.9892 - 27s/epoch - 90ms/step\n",
      "Epoch 9/69\n",
      "300/300 - 28s - loss: 0.1200 - accuracy: 0.9679 - val_loss: 0.0355 - val_accuracy: 0.9891 - 28s/epoch - 92ms/step\n",
      "Epoch 10/69\n",
      "300/300 - 27s - loss: 0.1142 - accuracy: 0.9695 - val_loss: 0.0325 - val_accuracy: 0.9902 - 27s/epoch - 90ms/step\n",
      "Epoch 11/69\n",
      "300/300 - 28s - loss: 0.1111 - accuracy: 0.9708 - val_loss: 0.0318 - val_accuracy: 0.9904 - 28s/epoch - 92ms/step\n",
      "Epoch 12/69\n",
      "300/300 - 27s - loss: 0.1056 - accuracy: 0.9717 - val_loss: 0.0331 - val_accuracy: 0.9902 - 27s/epoch - 90ms/step\n",
      "Epoch 13/69\n",
      "300/300 - 27s - loss: 0.1021 - accuracy: 0.9737 - val_loss: 0.0333 - val_accuracy: 0.9905 - 27s/epoch - 90ms/step\n",
      "Epoch 14/69\n",
      "300/300 - 28s - loss: 0.0978 - accuracy: 0.9738 - val_loss: 0.0300 - val_accuracy: 0.9909 - 28s/epoch - 92ms/step\n",
      "Epoch 15/69\n",
      "300/300 - 27s - loss: 0.0951 - accuracy: 0.9738 - val_loss: 0.0297 - val_accuracy: 0.9910 - 27s/epoch - 90ms/step\n",
      "Epoch 16/69\n",
      "300/300 - 27s - loss: 0.0942 - accuracy: 0.9738 - val_loss: 0.0310 - val_accuracy: 0.9910 - 27s/epoch - 90ms/step\n",
      "Epoch 17/69\n",
      "300/300 - 28s - loss: 0.0912 - accuracy: 0.9750 - val_loss: 0.0287 - val_accuracy: 0.9905 - 28s/epoch - 93ms/step\n",
      "Epoch 18/69\n",
      "300/300 - 27s - loss: 0.0893 - accuracy: 0.9760 - val_loss: 0.0287 - val_accuracy: 0.9914 - 27s/epoch - 90ms/step\n",
      "Epoch 19/69\n",
      "300/300 - 27s - loss: 0.0866 - accuracy: 0.9766 - val_loss: 0.0289 - val_accuracy: 0.9913 - 27s/epoch - 91ms/step\n",
      "Epoch 20/69\n",
      "300/300 - 26s - loss: 0.0873 - accuracy: 0.9762 - val_loss: 0.0262 - val_accuracy: 0.9912 - 26s/epoch - 88ms/step\n",
      "Epoch 21/69\n",
      "300/300 - 27s - loss: 0.0850 - accuracy: 0.9771 - val_loss: 0.0266 - val_accuracy: 0.9915 - 27s/epoch - 91ms/step\n",
      "Epoch 22/69\n",
      "300/300 - 29s - loss: 0.0810 - accuracy: 0.9781 - val_loss: 0.0259 - val_accuracy: 0.9911 - 29s/epoch - 98ms/step\n",
      "Epoch 23/69\n",
      "300/300 - 28s - loss: 0.0795 - accuracy: 0.9781 - val_loss: 0.0260 - val_accuracy: 0.9919 - 28s/epoch - 93ms/step\n",
      "Epoch 24/69\n",
      "300/300 - 28s - loss: 0.0798 - accuracy: 0.9778 - val_loss: 0.0250 - val_accuracy: 0.9922 - 28s/epoch - 92ms/step\n",
      "Epoch 25/69\n",
      "300/300 - 27s - loss: 0.0797 - accuracy: 0.9786 - val_loss: 0.0247 - val_accuracy: 0.9920 - 27s/epoch - 89ms/step\n",
      "Epoch 26/69\n",
      "300/300 - 27s - loss: 0.0768 - accuracy: 0.9791 - val_loss: 0.0255 - val_accuracy: 0.9920 - 27s/epoch - 91ms/step\n",
      "Epoch 27/69\n",
      "300/300 - 29s - loss: 0.0778 - accuracy: 0.9790 - val_loss: 0.0263 - val_accuracy: 0.9912 - 29s/epoch - 95ms/step\n",
      "Epoch 28/69\n",
      "300/300 - 27s - loss: 0.0761 - accuracy: 0.9794 - val_loss: 0.0260 - val_accuracy: 0.9916 - 27s/epoch - 88ms/step\n",
      "Epoch 29/69\n",
      "300/300 - 28s - loss: 0.0773 - accuracy: 0.9799 - val_loss: 0.0240 - val_accuracy: 0.9924 - 28s/epoch - 92ms/step\n",
      "Epoch 30/69\n",
      "300/300 - 27s - loss: 0.0723 - accuracy: 0.9808 - val_loss: 0.0271 - val_accuracy: 0.9913 - 27s/epoch - 91ms/step\n",
      "Epoch 31/69\n",
      "300/300 - 27s - loss: 0.0748 - accuracy: 0.9789 - val_loss: 0.0244 - val_accuracy: 0.9919 - 27s/epoch - 90ms/step\n",
      "Epoch 32/69\n",
      "300/300 - 27s - loss: 0.0704 - accuracy: 0.9803 - val_loss: 0.0235 - val_accuracy: 0.9924 - 27s/epoch - 90ms/step\n",
      "Epoch 33/69\n",
      "300/300 - 27s - loss: 0.0700 - accuracy: 0.9800 - val_loss: 0.0234 - val_accuracy: 0.9920 - 27s/epoch - 90ms/step\n",
      "Epoch 34/69\n",
      "300/300 - 26s - loss: 0.0687 - accuracy: 0.9812 - val_loss: 0.0227 - val_accuracy: 0.9922 - 26s/epoch - 88ms/step\n",
      "Epoch 35/69\n",
      "300/300 - 27s - loss: 0.0733 - accuracy: 0.9801 - val_loss: 0.0232 - val_accuracy: 0.9921 - 27s/epoch - 89ms/step\n",
      "Epoch 36/69\n",
      "300/300 - 27s - loss: 0.0678 - accuracy: 0.9814 - val_loss: 0.0237 - val_accuracy: 0.9918 - 27s/epoch - 89ms/step\n",
      "Epoch 37/69\n",
      "300/300 - 26s - loss: 0.0699 - accuracy: 0.9803 - val_loss: 0.0241 - val_accuracy: 0.9924 - 26s/epoch - 87ms/step\n",
      "Epoch 38/69\n",
      "300/300 - 27s - loss: 0.0657 - accuracy: 0.9824 - val_loss: 0.0215 - val_accuracy: 0.9930 - 27s/epoch - 90ms/step\n",
      "Epoch 39/69\n",
      "300/300 - 27s - loss: 0.0660 - accuracy: 0.9821 - val_loss: 0.0218 - val_accuracy: 0.9930 - 27s/epoch - 91ms/step\n",
      "Epoch 40/69\n",
      "300/300 - 27s - loss: 0.0665 - accuracy: 0.9816 - val_loss: 0.0228 - val_accuracy: 0.9924 - 27s/epoch - 91ms/step\n",
      "Epoch 41/69\n",
      "300/300 - 27s - loss: 0.0618 - accuracy: 0.9822 - val_loss: 0.0213 - val_accuracy: 0.9935 - 27s/epoch - 90ms/step\n",
      "Epoch 42/69\n",
      "300/300 - 27s - loss: 0.0665 - accuracy: 0.9822 - val_loss: 0.0227 - val_accuracy: 0.9925 - 27s/epoch - 90ms/step\n",
      "Epoch 43/69\n",
      "300/300 - 27s - loss: 0.0652 - accuracy: 0.9819 - val_loss: 0.0229 - val_accuracy: 0.9931 - 27s/epoch - 88ms/step\n",
      "Epoch 44/69\n",
      "300/300 - 27s - loss: 0.0691 - accuracy: 0.9807 - val_loss: 0.0221 - val_accuracy: 0.9927 - 27s/epoch - 88ms/step\n",
      "Epoch 45/69\n",
      "300/300 - 26s - loss: 0.0653 - accuracy: 0.9815 - val_loss: 0.0242 - val_accuracy: 0.9926 - 26s/epoch - 87ms/step\n",
      "Epoch 46/69\n",
      "300/300 - 27s - loss: 0.0635 - accuracy: 0.9824 - val_loss: 0.0260 - val_accuracy: 0.9921 - 27s/epoch - 89ms/step\n",
      "Epoch 47/69\n",
      "300/300 - 28s - loss: 0.0627 - accuracy: 0.9827 - val_loss: 0.0239 - val_accuracy: 0.9920 - 28s/epoch - 94ms/step\n",
      "Epoch 48/69\n",
      "300/300 - 26s - loss: 0.0638 - accuracy: 0.9825 - val_loss: 0.0228 - val_accuracy: 0.9930 - 26s/epoch - 86ms/step\n",
      "Epoch 49/69\n",
      "300/300 - 27s - loss: 0.0620 - accuracy: 0.9821 - val_loss: 0.0236 - val_accuracy: 0.9927 - 27s/epoch - 90ms/step\n",
      "Epoch 50/69\n",
      "300/300 - 28s - loss: 0.0618 - accuracy: 0.9831 - val_loss: 0.0224 - val_accuracy: 0.9929 - 28s/epoch - 92ms/step\n",
      "Epoch 51/69\n",
      "300/300 - 28s - loss: 0.0618 - accuracy: 0.9832 - val_loss: 0.0237 - val_accuracy: 0.9933 - 28s/epoch - 93ms/step\n",
      "Epoch 52/69\n",
      "300/300 - 29s - loss: 0.0624 - accuracy: 0.9824 - val_loss: 0.0223 - val_accuracy: 0.9926 - 29s/epoch - 97ms/step\n",
      "Epoch 53/69\n",
      "300/300 - 30s - loss: 0.0599 - accuracy: 0.9833 - val_loss: 0.0203 - val_accuracy: 0.9938 - 30s/epoch - 98ms/step\n",
      "Epoch 54/69\n",
      "300/300 - 28s - loss: 0.0613 - accuracy: 0.9822 - val_loss: 0.0220 - val_accuracy: 0.9933 - 28s/epoch - 95ms/step\n",
      "Epoch 55/69\n",
      "300/300 - 28s - loss: 0.0603 - accuracy: 0.9831 - val_loss: 0.0221 - val_accuracy: 0.9927 - 28s/epoch - 92ms/step\n",
      "Epoch 56/69\n",
      "300/300 - 28s - loss: 0.0605 - accuracy: 0.9832 - val_loss: 0.0238 - val_accuracy: 0.9936 - 28s/epoch - 94ms/step\n",
      "Epoch 57/69\n",
      "300/300 - 29s - loss: 0.0611 - accuracy: 0.9825 - val_loss: 0.0238 - val_accuracy: 0.9929 - 29s/epoch - 95ms/step\n",
      "Epoch 58/69\n",
      "300/300 - 29s - loss: 0.0592 - accuracy: 0.9836 - val_loss: 0.0222 - val_accuracy: 0.9930 - 29s/epoch - 97ms/step\n",
      "Epoch 59/69\n",
      "300/300 - 30s - loss: 0.0616 - accuracy: 0.9827 - val_loss: 0.0200 - val_accuracy: 0.9936 - 30s/epoch - 99ms/step\n",
      "Epoch 60/69\n",
      "300/300 - 28s - loss: 0.0623 - accuracy: 0.9825 - val_loss: 0.0217 - val_accuracy: 0.9932 - 28s/epoch - 93ms/step\n",
      "Epoch 61/69\n",
      "300/300 - 28s - loss: 0.0571 - accuracy: 0.9837 - val_loss: 0.0202 - val_accuracy: 0.9938 - 28s/epoch - 92ms/step\n",
      "Epoch 62/69\n",
      "300/300 - 27s - loss: 0.0576 - accuracy: 0.9834 - val_loss: 0.0213 - val_accuracy: 0.9936 - 27s/epoch - 88ms/step\n",
      "Epoch 63/69\n",
      "300/300 - 28s - loss: 0.0575 - accuracy: 0.9841 - val_loss: 0.0211 - val_accuracy: 0.9932 - 28s/epoch - 94ms/step\n",
      "Epoch 64/69\n",
      "300/300 - 27s - loss: 0.0577 - accuracy: 0.9834 - val_loss: 0.0209 - val_accuracy: 0.9939 - 27s/epoch - 89ms/step\n",
      "Epoch 65/69\n",
      "300/300 - 28s - loss: 0.0580 - accuracy: 0.9840 - val_loss: 0.0222 - val_accuracy: 0.9937 - 28s/epoch - 92ms/step\n",
      "Epoch 66/69\n",
      "300/300 - 29s - loss: 0.0594 - accuracy: 0.9831 - val_loss: 0.0198 - val_accuracy: 0.9937 - 29s/epoch - 96ms/step\n",
      "Epoch 67/69\n",
      "300/300 - 26s - loss: 0.0590 - accuracy: 0.9831 - val_loss: 0.0208 - val_accuracy: 0.9940 - 26s/epoch - 88ms/step\n",
      "Epoch 68/69\n",
      "300/300 - 27s - loss: 0.0576 - accuracy: 0.9836 - val_loss: 0.0212 - val_accuracy: 0.9937 - 27s/epoch - 89ms/step\n",
      "Epoch 69/69\n",
      "300/300 - 29s - loss: 0.0580 - accuracy: 0.9834 - val_loss: 0.0203 - val_accuracy: 0.9933 - 29s/epoch - 98ms/step\n",
      "Large CNN Error: 0.67%\n"
     ]
    }
   ],
   "source": [
    "# Fit the model\n",
    "model.fit(X_train, y_train, validation_data=(X_test, y_test), epochs=69, batch_size=200, verbose=2)\n",
    "# Final evaluation of the model\n",
    "scores = model.evaluate(X_test, y_test, verbose=0)\n",
    "print(\"Large CNN Error: %.2f%%\" % (100 - scores[1] * 100))"
   ],
   "metadata": {
    "collapsed": false,
    "ExecuteTime": {
     "start_time": "2023-12-08T11:08:12.815567Z",
     "end_time": "2023-12-08T11:39:48.598886Z"
    }
   }
  },
  {
   "cell_type": "code",
   "execution_count": null,
   "outputs": [],
   "source": [],
   "metadata": {
    "collapsed": false
   }
  }
 ],
 "metadata": {
  "kernelspec": {
   "display_name": "Python 3",
   "language": "python",
   "name": "python3"
  },
  "language_info": {
   "codemirror_mode": {
    "name": "ipython",
    "version": 2
   },
   "file_extension": ".py",
   "mimetype": "text/x-python",
   "name": "python",
   "nbconvert_exporter": "python",
   "pygments_lexer": "ipython2",
   "version": "2.7.6"
  }
 },
 "nbformat": 4,
 "nbformat_minor": 0
}
