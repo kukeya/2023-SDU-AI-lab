{
 "cells": [
  {
   "cell_type": "code",
   "execution_count": 1,
   "metadata": {
    "collapsed": true,
    "ExecuteTime": {
     "start_time": "2023-12-07T21:44:15.821200Z",
     "end_time": "2023-12-07T21:44:15.969575Z"
    }
   },
   "outputs": [],
   "source": [
    "import numpy as np\n",
    "import operator\n",
    "from os import listdir"
   ]
  },
  {
   "cell_type": "markdown",
   "source": [
    "# 实现kNN核心算法\n",
    "•inX - 用于要进行分类判别的数据(来自测试集)\n",
    "•dataSet - 用于训练的数据(训练集)\n",
    "•labes - 分类标签\n",
    "•k - kNN算法参数,选择距离最小的k个点"
   ],
   "metadata": {
    "collapsed": false
   }
  },
  {
   "cell_type": "code",
   "execution_count": 2,
   "outputs": [],
   "source": [
    "def classify0(inX, dataSet, labels, k):\n",
    "    m = dataSet.shape[0]  #返回dataSet的行数，即已知数据集中的所有点的数量\n",
    "    diffMat = np.tile(inX, (m, 1)) - dataSet  #行向量方向上将inX复制m次，然后和dataSet矩阵做相减运算\n",
    "    sqDiffMat = diffMat ** 2  #减完后，对每个数做平方\n",
    "    sqDistances = sqDiffMat.sum(axis=1)  #平方后按行求和，axis=0表示列相加,axis=1表示行相加\n",
    "    distances = sqDistances ** 0.5  #开方计算出欧式距离\n",
    "    sortedDistIndices = distances.argsort()  #对距离从小到大排序，注argsort函数返回的是数组值从小到大的索引值\n",
    "    classCount = {}  #用于类别/次数的字典，key为类别，value为次数\n",
    "    for i in range(k):\n",
    "        voteIlabel = labels[sortedDistIndices[i]]  #取出第i近的元素对应的类别\n",
    "        classCount[voteIlabel] = classCount.get(voteIlabel, 0) + 1  #对类别次数进行累加\n",
    "    sortedClassCount = sorted(classCount.items(), key=operator.itemgetter(1), reverse=True)  #根据字典的值从大到小排序\n",
    "    return sortedClassCount[0][0]  #返回次数最多的类别，即所要分类的类别"
   ],
   "metadata": {
    "collapsed": false,
    "ExecuteTime": {
     "start_time": "2023-12-07T21:55:32.206823Z",
     "end_time": "2023-12-07T21:55:32.221815Z"
    }
   }
  },
  {
   "cell_type": "code",
   "execution_count": 3,
   "outputs": [],
   "source": [
    "data_set = np.array([[250, 100], [270, 120], [111, 230], [130, 260], [200, 80], [70, 190]])\n",
    "labels = [\"理科生\", \"理科生\", \"文科生\", \"文科生\", \"理科生\", \"文科生\"]\n",
    "inX = [105, 210]"
   ],
   "metadata": {
    "collapsed": false,
    "ExecuteTime": {
     "start_time": "2023-12-07T21:58:29.459867Z",
     "end_time": "2023-12-07T21:58:29.498895Z"
    }
   }
  },
  {
   "cell_type": "code",
   "execution_count": 4,
   "outputs": [
    {
     "name": "stdout",
     "output_type": "stream",
     "text": [
      "文科生\n"
     ]
    }
   ],
   "source": [
    "print(classify0(inX, data_set, labels, 3))"
   ],
   "metadata": {
    "collapsed": false,
    "ExecuteTime": {
     "start_time": "2023-12-07T21:58:46.492550Z",
     "end_time": "2023-12-07T21:58:46.522544Z"
    }
   }
  },
  {
   "cell_type": "code",
   "execution_count": null,
   "outputs": [],
   "source": [],
   "metadata": {
    "collapsed": false
   }
  }
 ],
 "metadata": {
  "kernelspec": {
   "display_name": "Python 3",
   "language": "python",
   "name": "python3"
  },
  "language_info": {
   "codemirror_mode": {
    "name": "ipython",
    "version": 2
   },
   "file_extension": ".py",
   "mimetype": "text/x-python",
   "name": "python",
   "nbconvert_exporter": "python",
   "pygments_lexer": "ipython2",
   "version": "2.7.6"
  }
 },
 "nbformat": 4,
 "nbformat_minor": 0
}
