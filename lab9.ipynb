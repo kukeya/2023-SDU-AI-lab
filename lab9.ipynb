{
 "cells": [
  {
   "cell_type": "code",
   "execution_count": 68,
   "metadata": {
    "collapsed": true,
    "ExecuteTime": {
     "start_time": "2023-12-08T16:54:33.279680Z",
     "end_time": "2023-12-08T16:54:33.304128Z"
    }
   },
   "outputs": [],
   "source": [
    "import tensorflow as tf\n",
    "from tensorflow.examples.tutorials.mnist import input_data\n",
    "import os\n"
   ]
  },
  {
   "cell_type": "code",
   "execution_count": 69,
   "outputs": [],
   "source": [
    "max_steps = 1000  # 最大迭代次数\n",
    "learning_rate = 0.001  # 学习率\n",
    "dropout = 0.9  # dropout时随机保留神经元的比例\n",
    "data_dir = './lab9-tb/MNIST_DATA'  # 样本数据存储的路径\n",
    "log_dir = './lab9-tb/MNIST_LOG'  # 输出日志保存的路径\n",
    "\n",
    "# tf.compat.v1.disable_eager_execution()\n"
   ],
   "metadata": {
    "collapsed": false,
    "ExecuteTime": {
     "start_time": "2023-12-08T16:54:33.293680Z",
     "end_time": "2023-12-08T16:54:33.338531Z"
    }
   }
  },
  {
   "cell_type": "code",
   "execution_count": 70,
   "outputs": [],
   "source": [
    "os.environ[\"CUDA_VISIBLE_DEVICES\"] = \"0\"\n",
    "config = tf.compat.v1.ConfigProto(allow_soft_placement=True)\n",
    "gpu_options = tf.compat.v1.GPUOptions(per_process_gpu_memory_fraction=0.33)\n",
    "config.gpu_options.allow_growth = True\n"
   ],
   "metadata": {
    "collapsed": false,
    "ExecuteTime": {
     "start_time": "2023-12-08T16:54:33.309115Z",
     "end_time": "2023-12-08T16:54:33.338531Z"
    }
   }
  },
  {
   "cell_type": "code",
   "execution_count": 71,
   "outputs": [
    {
     "name": "stdout",
     "output_type": "stream",
     "text": [
      "Extracting ./lab9-tb/MNIST_DATA\\train-images-idx3-ubyte.gz\n",
      "Extracting ./lab9-tb/MNIST_DATA\\train-labels-idx1-ubyte.gz\n",
      "Extracting ./lab9-tb/MNIST_DATA\\t10k-images-idx3-ubyte.gz\n",
      "Extracting ./lab9-tb/MNIST_DATA\\t10k-labels-idx1-ubyte.gz\n"
     ]
    }
   ],
   "source": [
    "# 获取数据集，并采用采用one_hot编码\n",
    "mnist = input_data.read_data_sets(data_dir, one_hot=True)\n"
   ],
   "metadata": {
    "collapsed": false,
    "ExecuteTime": {
     "start_time": "2023-12-08T16:54:33.322517Z",
     "end_time": "2023-12-08T16:54:33.684536Z"
    }
   }
  },
  {
   "cell_type": "code",
   "execution_count": 72,
   "outputs": [],
   "source": [
    "sess = tf.compat.v1.InteractiveSession(config=config)"
   ],
   "metadata": {
    "collapsed": false,
    "ExecuteTime": {
     "start_time": "2023-12-08T16:54:33.687953Z",
     "end_time": "2023-12-08T16:54:33.701121Z"
    }
   }
  },
  {
   "cell_type": "code",
   "execution_count": 73,
   "outputs": [],
   "source": [
    "with tf.name_scope('input'):\n",
    "    x = tf.compat.v1.placeholder(tf.float32, [None, 784], name='x-input')\n",
    "    y_ = tf.compat.v1.placeholder(tf.float32, [None, 10], name='y-input')\n"
   ],
   "metadata": {
    "collapsed": false,
    "ExecuteTime": {
     "start_time": "2023-12-08T16:54:33.701121Z",
     "end_time": "2023-12-08T16:54:33.725109Z"
    }
   }
  },
  {
   "cell_type": "code",
   "execution_count": 74,
   "outputs": [],
   "source": [
    "with tf.name_scope('input_reshape'):\n",
    "    image_shaped_input = tf.reshape(x, [-1, 28, 28, 1])\n",
    "    tf.summary.image('input', image_shaped_input, 10)\n"
   ],
   "metadata": {
    "collapsed": false,
    "ExecuteTime": {
     "start_time": "2023-12-08T16:54:33.715113Z",
     "end_time": "2023-12-08T16:54:33.730113Z"
    }
   }
  },
  {
   "cell_type": "code",
   "execution_count": 75,
   "outputs": [],
   "source": [
    "# 初始化权重参数\n",
    "def weight_variable(shape):\n",
    "    initial = tf.compat.v1.truncated_normal(shape, stddev=0.1)\n",
    "    return tf.Variable(initial)\n"
   ],
   "metadata": {
    "collapsed": false,
    "ExecuteTime": {
     "start_time": "2023-12-08T16:54:33.731123Z",
     "end_time": "2023-12-08T16:54:33.746167Z"
    }
   }
  },
  {
   "cell_type": "code",
   "execution_count": 76,
   "outputs": [],
   "source": [
    "# 初始化偏执参数\n",
    "def bias_variable(shape):\n",
    "    initial = tf.constant(0.1, shape=shape)\n",
    "    return tf.Variable(initial)\n"
   ],
   "metadata": {
    "collapsed": false,
    "ExecuteTime": {
     "start_time": "2023-12-08T16:54:33.748164Z",
     "end_time": "2023-12-08T16:54:33.768989Z"
    }
   }
  },
  {
   "cell_type": "code",
   "execution_count": 77,
   "outputs": [],
   "source": [
    "# 绘制参数变化\n",
    "def variable_summaries(var):\n",
    "    with tf.name_scope('summaries'):\n",
    "        # 计算参数的均值，并使用tf.summary.scaler记录\n",
    "        mean = tf.reduce_mean(var)\n",
    "        tf.summary.scalar('mean', mean)\n",
    "\n",
    "        # 计算参数的标准差\n",
    "        with tf.name_scope('stddev'):\n",
    "            stddev = tf.sqrt(tf.reduce_mean(tf.square(var - mean)))\n",
    "        # 使用tf.summary.scaler记录记录下标准差，最大值，最小值\n",
    "        tf.summary.scalar('stddev', stddev)\n",
    "        tf.summary.scalar('max', tf.reduce_max(var))\n",
    "        tf.summary.scalar('min', tf.reduce_min(var))\n",
    "        # 用直方图记录参数的分布\n",
    "        tf.summary.histogram('histogram', var)\n"
   ],
   "metadata": {
    "collapsed": false,
    "ExecuteTime": {
     "start_time": "2023-12-08T16:54:33.764970Z",
     "end_time": "2023-12-08T16:54:33.778971Z"
    }
   }
  },
  {
   "cell_type": "code",
   "execution_count": 82,
   "outputs": [],
   "source": [
    "# 构建神经网络\n",
    "def nn_layer(input_tensor, input_dim, output_dim, layer_name, act=tf.nn.relu):\n",
    "    # 设置命名空间\n",
    "    with tf.name_scope(layer_name):\n",
    "        # 调用之前的方法初始化权重w，并且调用参数信息的记录方法，记录w的信息\n",
    "        with tf.name_scope('weights'):\n",
    "            weights = weight_variable([input_dim, output_dim])\n",
    "            variable_summaries(weights)\n",
    "        # 调用之前的方法初始化权重b，并且调用参数信息的记录方法，记录b的信息\n",
    "        with tf.name_scope('biases'):\n",
    "            biases = bias_variable([output_dim])\n",
    "            variable_summaries(biases)\n",
    "        # 执行wx+b的线性计算，并且用直方图记录下来\n",
    "        with tf.name_scope('linear_compute'):\n",
    "            preactivate = tf.matmul(input_tensor, weights) + biases\n",
    "            tf.summary.histogram('linear', preactivate)\n",
    "        # 将线性输出经过激励函数，并将输出也用直方图记录下来\n",
    "        activations = act(preactivate, name='activation')\n",
    "        tf.summary.histogram('activations', activations)\n",
    "    # 返回激励层的最终输出\n",
    "    return activations"
   ],
   "metadata": {
    "collapsed": false,
    "ExecuteTime": {
     "start_time": "2023-12-08T17:16:31.903015Z",
     "end_time": "2023-12-08T17:16:31.903015Z"
    }
   }
  },
  {
   "cell_type": "code",
   "execution_count": 83,
   "outputs": [],
   "source": [
    "hidden1 = nn_layer(x, 784, 500, 'layer1')"
   ],
   "metadata": {
    "collapsed": false,
    "ExecuteTime": {
     "start_time": "2023-12-08T17:16:40.744610Z",
     "end_time": "2023-12-08T17:16:40.744610Z"
    }
   }
  },
  {
   "cell_type": "code",
   "execution_count": 84,
   "outputs": [
    {
     "ename": "ValueError",
     "evalue": "Expected scalar shape for dropout_4/Placeholder:0, saw shape: <unknown>.",
     "output_type": "error",
     "traceback": [
      "\u001B[1;31m---------------------------------------------------------------------------\u001B[0m",
      "\u001B[1;31mValueError\u001B[0m                                Traceback (most recent call last)",
      "Cell \u001B[1;32mIn[84], line 4\u001B[0m\n\u001B[0;32m      2\u001B[0m \u001B[38;5;28;01mwith\u001B[39;00m tf\u001B[38;5;241m.\u001B[39mname_scope(\u001B[38;5;124m'\u001B[39m\u001B[38;5;124mdropout\u001B[39m\u001B[38;5;124m'\u001B[39m):\n\u001B[0;32m      3\u001B[0m     keep_prob \u001B[38;5;241m=\u001B[39m tf\u001B[38;5;241m.\u001B[39mcompat\u001B[38;5;241m.\u001B[39mv1\u001B[38;5;241m.\u001B[39mplaceholder(tf\u001B[38;5;241m.\u001B[39mfloat32)\n\u001B[1;32m----> 4\u001B[0m     \u001B[43mtf\u001B[49m\u001B[38;5;241;43m.\u001B[39;49m\u001B[43msummary\u001B[49m\u001B[38;5;241;43m.\u001B[39;49m\u001B[43mscalar\u001B[49m\u001B[43m(\u001B[49m\u001B[38;5;124;43m'\u001B[39;49m\u001B[38;5;124;43mdropout_keep_probability\u001B[39;49m\u001B[38;5;124;43m'\u001B[39;49m\u001B[43m,\u001B[49m\u001B[43m \u001B[49m\u001B[43mkeep_prob\u001B[49m\u001B[43m)\u001B[49m\n\u001B[0;32m      5\u001B[0m     dropped \u001B[38;5;241m=\u001B[39m tf\u001B[38;5;241m.\u001B[39mnn\u001B[38;5;241m.\u001B[39mdropout(hidden1, keep_prob)\n",
      "File \u001B[1;32m~\\.conda\\envs\\AI2023\\lib\\site-packages\\tensorboard\\plugins\\scalar\\summary_v2.py:88\u001B[0m, in \u001B[0;36mscalar\u001B[1;34m(name, data, step, description)\u001B[0m\n\u001B[0;32m     83\u001B[0m summary_scope \u001B[38;5;241m=\u001B[39m (\n\u001B[0;32m     84\u001B[0m     \u001B[38;5;28mgetattr\u001B[39m(tf\u001B[38;5;241m.\u001B[39msummary\u001B[38;5;241m.\u001B[39mexperimental, \u001B[38;5;124m\"\u001B[39m\u001B[38;5;124msummary_scope\u001B[39m\u001B[38;5;124m\"\u001B[39m, \u001B[38;5;28;01mNone\u001B[39;00m)\n\u001B[0;32m     85\u001B[0m     \u001B[38;5;129;01mor\u001B[39;00m tf\u001B[38;5;241m.\u001B[39msummary\u001B[38;5;241m.\u001B[39msummary_scope\n\u001B[0;32m     86\u001B[0m )\n\u001B[0;32m     87\u001B[0m \u001B[38;5;28;01mwith\u001B[39;00m summary_scope(name, \u001B[38;5;124m\"\u001B[39m\u001B[38;5;124mscalar_summary\u001B[39m\u001B[38;5;124m\"\u001B[39m, values\u001B[38;5;241m=\u001B[39m[data, step]) \u001B[38;5;28;01mas\u001B[39;00m (tag, _):\n\u001B[1;32m---> 88\u001B[0m     \u001B[43mtf\u001B[49m\u001B[38;5;241;43m.\u001B[39;49m\u001B[43mdebugging\u001B[49m\u001B[38;5;241;43m.\u001B[39;49m\u001B[43massert_scalar\u001B[49m\u001B[43m(\u001B[49m\u001B[43mdata\u001B[49m\u001B[43m)\u001B[49m\n\u001B[0;32m     89\u001B[0m     \u001B[38;5;28;01mreturn\u001B[39;00m tf\u001B[38;5;241m.\u001B[39msummary\u001B[38;5;241m.\u001B[39mwrite(\n\u001B[0;32m     90\u001B[0m         tag\u001B[38;5;241m=\u001B[39mtag,\n\u001B[0;32m     91\u001B[0m         tensor\u001B[38;5;241m=\u001B[39mtf\u001B[38;5;241m.\u001B[39mcast(data, tf\u001B[38;5;241m.\u001B[39mfloat32),\n\u001B[0;32m     92\u001B[0m         step\u001B[38;5;241m=\u001B[39mstep,\n\u001B[0;32m     93\u001B[0m         metadata\u001B[38;5;241m=\u001B[39msummary_metadata,\n\u001B[0;32m     94\u001B[0m     )\n",
      "File \u001B[1;32m~\\.conda\\envs\\AI2023\\lib\\site-packages\\tensorflow\\python\\util\\traceback_utils.py:153\u001B[0m, in \u001B[0;36mfilter_traceback.<locals>.error_handler\u001B[1;34m(*args, **kwargs)\u001B[0m\n\u001B[0;32m    151\u001B[0m \u001B[38;5;28;01mexcept\u001B[39;00m \u001B[38;5;167;01mException\u001B[39;00m \u001B[38;5;28;01mas\u001B[39;00m e:\n\u001B[0;32m    152\u001B[0m   filtered_tb \u001B[38;5;241m=\u001B[39m _process_traceback_frames(e\u001B[38;5;241m.\u001B[39m__traceback__)\n\u001B[1;32m--> 153\u001B[0m   \u001B[38;5;28;01mraise\u001B[39;00m e\u001B[38;5;241m.\u001B[39mwith_traceback(filtered_tb) \u001B[38;5;28;01mfrom\u001B[39;00m \u001B[38;5;28;01mNone\u001B[39;00m\n\u001B[0;32m    154\u001B[0m \u001B[38;5;28;01mfinally\u001B[39;00m:\n\u001B[0;32m    155\u001B[0m   \u001B[38;5;28;01mdel\u001B[39;00m filtered_tb\n",
      "File \u001B[1;32m~\\.conda\\envs\\AI2023\\lib\\site-packages\\tensorflow\\python\\ops\\check_ops.py:2302\u001B[0m, in \u001B[0;36massert_scalar\u001B[1;34m(tensor, name, message)\u001B[0m\n\u001B[0;32m   2299\u001B[0m     \u001B[38;5;28;01mraise\u001B[39;00m \u001B[38;5;167;01mValueError\u001B[39;00m(\u001B[38;5;124m'\u001B[39m\u001B[38;5;132;01m%s\u001B[39;00m\u001B[38;5;124mExpected scalar shape, saw shape: \u001B[39m\u001B[38;5;132;01m%s\u001B[39;00m\u001B[38;5;124m.\u001B[39m\u001B[38;5;124m'\u001B[39m\n\u001B[0;32m   2300\u001B[0m                      \u001B[38;5;241m%\u001B[39m (message, shape,))\n\u001B[0;32m   2301\u001B[0m   \u001B[38;5;28;01melse\u001B[39;00m:\n\u001B[1;32m-> 2302\u001B[0m     \u001B[38;5;28;01mraise\u001B[39;00m \u001B[38;5;167;01mValueError\u001B[39;00m(\u001B[38;5;124m'\u001B[39m\u001B[38;5;132;01m%s\u001B[39;00m\u001B[38;5;124mExpected scalar shape for \u001B[39m\u001B[38;5;132;01m%s\u001B[39;00m\u001B[38;5;124m, saw shape: \u001B[39m\u001B[38;5;132;01m%s\u001B[39;00m\u001B[38;5;124m.\u001B[39m\u001B[38;5;124m'\u001B[39m\n\u001B[0;32m   2303\u001B[0m                      \u001B[38;5;241m%\u001B[39m (message, tensor\u001B[38;5;241m.\u001B[39mname, shape))\n\u001B[0;32m   2304\u001B[0m \u001B[38;5;28;01mreturn\u001B[39;00m tensor\n",
      "\u001B[1;31mValueError\u001B[0m: Expected scalar shape for dropout_4/Placeholder:0, saw shape: <unknown>."
     ]
    }
   ],
   "source": [
    "# 创建dropout层\n",
    "with tf.name_scope('dropout'):\n",
    "    keep_prob = tf.compat.v1.placeholder(tf.float32)\n",
    "    tf.summary.scalar('dropout_keep_probability', keep_prob)\n",
    "    dropped = tf.nn.dropout(hidden1, keep_prob)"
   ],
   "metadata": {
    "collapsed": false
   }
  },
  {
   "cell_type": "code",
   "execution_count": 85,
   "outputs": [
    {
     "ename": "NameError",
     "evalue": "name 'dropped' is not defined",
     "output_type": "error",
     "traceback": [
      "\u001B[1;31m---------------------------------------------------------------------------\u001B[0m",
      "\u001B[1;31mNameError\u001B[0m                                 Traceback (most recent call last)",
      "Cell \u001B[1;32mIn[85], line 1\u001B[0m\n\u001B[1;32m----> 1\u001B[0m y \u001B[38;5;241m=\u001B[39m nn_layer(\u001B[43mdropped\u001B[49m, \u001B[38;5;241m500\u001B[39m, \u001B[38;5;241m10\u001B[39m, \u001B[38;5;124m'\u001B[39m\u001B[38;5;124mlayer2\u001B[39m\u001B[38;5;124m'\u001B[39m, act\u001B[38;5;241m=\u001B[39mtf\u001B[38;5;241m.\u001B[39midentity)\n",
      "\u001B[1;31mNameError\u001B[0m: name 'dropped' is not defined"
     ]
    }
   ],
   "source": [
    "y = nn_layer(dropped, 500, 10, 'layer2', act=tf.identity)\n"
   ],
   "metadata": {
    "collapsed": false
   }
  },
  {
   "cell_type": "code",
   "execution_count": 81,
   "outputs": [
    {
     "ename": "NameError",
     "evalue": "name 'y' is not defined",
     "output_type": "error",
     "traceback": [
      "\u001B[1;31m---------------------------------------------------------------------------\u001B[0m",
      "\u001B[1;31mNameError\u001B[0m                                 Traceback (most recent call last)",
      "Cell \u001B[1;32mIn[81], line 4\u001B[0m\n\u001B[0;32m      1\u001B[0m \u001B[38;5;66;03m# 创建损失函数\u001B[39;00m\n\u001B[0;32m      2\u001B[0m \u001B[38;5;28;01mwith\u001B[39;00m tf\u001B[38;5;241m.\u001B[39mname_scope(\u001B[38;5;124m'\u001B[39m\u001B[38;5;124mloss\u001B[39m\u001B[38;5;124m'\u001B[39m):\n\u001B[0;32m      3\u001B[0m     \u001B[38;5;66;03m# 计算交叉熵损失（每个样本都会有一个损失）\u001B[39;00m\n\u001B[1;32m----> 4\u001B[0m     diff \u001B[38;5;241m=\u001B[39m tf\u001B[38;5;241m.\u001B[39mnn\u001B[38;5;241m.\u001B[39msoftmax_cross_entropy_with_logits(labels\u001B[38;5;241m=\u001B[39my_, logits\u001B[38;5;241m=\u001B[39m\u001B[43my\u001B[49m)\n\u001B[0;32m      5\u001B[0m     \u001B[38;5;28;01mwith\u001B[39;00m tf\u001B[38;5;241m.\u001B[39mname_scope(\u001B[38;5;124m'\u001B[39m\u001B[38;5;124mtotal\u001B[39m\u001B[38;5;124m'\u001B[39m):\n\u001B[0;32m      6\u001B[0m         \u001B[38;5;66;03m# 计算所有样本交叉熵损失的均值\u001B[39;00m\n\u001B[0;32m      7\u001B[0m         cross_entropy \u001B[38;5;241m=\u001B[39m tf\u001B[38;5;241m.\u001B[39mreduce_mean(diff)\n",
      "\u001B[1;31mNameError\u001B[0m: name 'y' is not defined"
     ]
    }
   ],
   "source": [
    "# 创建损失函数\n",
    "with tf.name_scope('loss'):\n",
    "    # 计算交叉熵损失（每个样本都会有一个损失）\n",
    "    diff = tf.nn.softmax_cross_entropy_with_logits(labels=y_, logits=y)\n",
    "    with tf.name_scope('total'):\n",
    "        # 计算所有样本交叉熵损失的均值\n",
    "        cross_entropy = tf.reduce_mean(diff)\n",
    "    tf.summary.scalar('loss', cross_entropy)\n"
   ],
   "metadata": {
    "collapsed": false
   }
  },
  {
   "cell_type": "code",
   "execution_count": null,
   "outputs": [],
   "source": [],
   "metadata": {
    "collapsed": false
   }
  }
 ],
 "metadata": {
  "kernelspec": {
   "display_name": "Python 3",
   "language": "python",
   "name": "python3"
  },
  "language_info": {
   "codemirror_mode": {
    "name": "ipython",
    "version": 2
   },
   "file_extension": ".py",
   "mimetype": "text/x-python",
   "name": "python",
   "nbconvert_exporter": "python",
   "pygments_lexer": "ipython2",
   "version": "2.7.6"
  }
 },
 "nbformat": 4,
 "nbformat_minor": 0
}
