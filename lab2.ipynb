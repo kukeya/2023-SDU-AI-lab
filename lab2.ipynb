{
 "cells": [
  {
   "cell_type": "code",
   "execution_count": 1,
   "outputs": [],
   "source": [
    "import heapq"
   ],
   "metadata": {
    "collapsed": false,
    "ExecuteTime": {
     "start_time": "2023-12-07T08:43:08.055233Z",
     "end_time": "2023-12-07T08:43:08.095236Z"
    }
   }
  },
  {
   "cell_type": "code",
   "execution_count": 2,
   "outputs": [],
   "source": [
    "def heuristic(node, goal):\n",
    "    # 启发式函数，用于估计节点到目标节点的代价\n",
    "    # 在这个示例中，我们使用曼哈顿距离作为启发式函数\n",
    "    x1, y1 = node\n",
    "    x2, y2 = goal\n",
    "    return abs(x1 - x2) + abs(y1 - y2)"
   ],
   "metadata": {
    "collapsed": false,
    "ExecuteTime": {
     "start_time": "2023-12-07T08:43:08.066227Z",
     "end_time": "2023-12-07T08:43:08.137228Z"
    }
   }
  },
  {
   "cell_type": "code",
   "execution_count": 3,
   "outputs": [],
   "source": [
    "def reconstruct_path(came_from, start, goal):\n",
    "    current_node = goal\n",
    "    path = [current_node]\n",
    "\n",
    "    while current_node != start:\n",
    "        current_node = came_from[current_node]\n",
    "        path.append(current_node)\n",
    "\n",
    "    path.reverse()\n",
    "    return path"
   ],
   "metadata": {
    "collapsed": false,
    "ExecuteTime": {
     "start_time": "2023-12-07T08:43:08.082232Z",
     "end_time": "2023-12-07T08:43:08.137228Z"
    }
   }
  },
  {
   "cell_type": "code",
   "execution_count": 4,
   "outputs": [],
   "source": [
    "def astar(graph, start, goal):\n",
    "    # 初始化起始节点和目标节点\n",
    "    open_set = [(0, start)]  # 使用优先队列来存储待探索的节点\n",
    "    came_from = {}  # 存储每个节点的父节点\n",
    "    cost_so_far = {}  # 存储从起始节点到每个节点的实际代价\n",
    "    came_from[start] = None\n",
    "    cost_so_far[start] = 0\n",
    "\n",
    "    while open_set:\n",
    "        current_cost, current_node = heapq.heappop(open_set)\n",
    "\n",
    "        if current_node == goal:\n",
    "            break\n",
    "\n",
    "        for neighbor in graph[current_node]:\n",
    "            # 计算从起始节点到邻居节点的新代价\n",
    "            new_cost = cost_so_far[current_node] + graph[current_node][neighbor]\n",
    "            if neighbor not in cost_so_far or new_cost < cost_so_far[neighbor]:\n",
    "                cost_so_far[neighbor] = new_cost\n",
    "                priority = new_cost + heuristic(neighbor, goal)  # 使用启发式函数计算优先级\n",
    "                heapq.heappush(open_set, (priority, neighbor))\n",
    "                came_from[neighbor] = current_node\n",
    "\n",
    "    return reconstruct_path(came_from, start, goal)"
   ],
   "metadata": {
    "collapsed": false,
    "ExecuteTime": {
     "start_time": "2023-12-07T08:43:08.100226Z",
     "end_time": "2023-12-07T08:43:08.138225Z"
    }
   }
  },
  {
   "cell_type": "code",
   "execution_count": 5,
   "outputs": [],
   "source": [
    "# 邻接表的形式表示图\n",
    "graph = {\n",
    "    (0, 0): {(0, 1): 1},\n",
    "    (0, 1): {(0, 0): 1, (0, 2): 1},\n",
    "    (0, 2): {(0, 1): 1, (1, 2): 1},\n",
    "    (0, 3): {(1, 3): 1},\n",
    "    (1, 0): {(1, 1): 1, (1, 2): 1},\n",
    "    (1, 1): {(1, 0): 1, (1, 2): 1, (2, 1): 1},\n",
    "    (1, 2): {(1, 1): 1, (0, 2): 1, (1, 3): 1},\n",
    "    (1, 3): {(1, 2): 1, (0, 3): 1, (2, 3): 1},\n",
    "    (2, 0): {(1, 0): 1, (2, 1): 1, (2, 3): 1},\n",
    "    (2, 1): {(1, 1): 1, (2, 0): 1, (2, 2): 1},\n",
    "    (2, 2): {(2, 3): 1, (3, 2): 1, (2, 1): 1},\n",
    "    (2, 3): {(1, 3): 1, (2, 2): 1},\n",
    "    (3, 0): {(2, 0): 1, (3, 1): 1},\n",
    "    (3, 1): {(3, 2): 1, (3, 0): 1},\n",
    "    (3, 2): {(2, 2): 1, (3, 3): 1, (3, 1): 1},\n",
    "    (3, 3): {(3, 2): 1}\n",
    "}"
   ],
   "metadata": {
    "collapsed": false,
    "ExecuteTime": {
     "start_time": "2023-12-07T08:43:08.120227Z",
     "end_time": "2023-12-07T08:43:08.138225Z"
    }
   }
  },
  {
   "cell_type": "code",
   "execution_count": 6,
   "outputs": [],
   "source": [
    "start = (0, 0)\n",
    "goal = (3, 3)"
   ],
   "metadata": {
    "collapsed": false,
    "ExecuteTime": {
     "start_time": "2023-12-07T08:43:08.131226Z",
     "end_time": "2023-12-07T08:43:08.150240Z"
    }
   }
  },
  {
   "cell_type": "code",
   "execution_count": 7,
   "outputs": [
    {
     "name": "stdout",
     "output_type": "stream",
     "text": [
      "[(0, 0), (0, 1), (0, 2), (1, 2), (1, 3), (2, 3), (2, 2), (3, 2), (3, 3)]\n"
     ]
    }
   ],
   "source": [
    "path = astar(graph, start, goal)\n",
    "print(path)"
   ],
   "metadata": {
    "collapsed": false,
    "ExecuteTime": {
     "start_time": "2023-12-07T08:43:08.142224Z",
     "end_time": "2023-12-07T08:43:08.155229Z"
    }
   }
  }
 ],
 "metadata": {
  "kernelspec": {
   "display_name": "Python 3",
   "language": "python",
   "name": "python3"
  },
  "language_info": {
   "codemirror_mode": {
    "name": "ipython",
    "version": 2
   },
   "file_extension": ".py",
   "mimetype": "text/x-python",
   "name": "python",
   "nbconvert_exporter": "python",
   "pygments_lexer": "ipython2",
   "version": "2.7.6"
  }
 },
 "nbformat": 4,
 "nbformat_minor": 0
}
